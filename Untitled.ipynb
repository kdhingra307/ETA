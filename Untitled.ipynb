{
 "cells": [
  {
   "cell_type": "code",
   "execution_count": 14,
   "id": "5d726ea2",
   "metadata": {},
   "outputs": [],
   "source": [
    "import numpy as np\n",
    "from matplotlib import pyplot as plt"
   ]
  },
  {
   "cell_type": "code",
   "execution_count": 6,
   "id": "9df89606",
   "metadata": {},
   "outputs": [],
   "source": [
    "stt = np.load(\"dummy.npz\", allow_pickle=True)['arr_0']"
   ]
  },
  {
   "cell_type": "code",
   "execution_count": 11,
   "id": "1ed5cef7",
   "metadata": {},
   "outputs": [
    {
     "data": {
      "text/plain": [
       "(12, 624)"
      ]
     },
     "execution_count": 11,
     "metadata": {},
     "output_type": "execute_result"
    }
   ],
   "source": [
    "stt[0].shape"
   ]
  },
  {
   "cell_type": "code",
   "execution_count": 12,
   "id": "c4e98b95",
   "metadata": {},
   "outputs": [
    {
     "data": {
      "text/plain": [
       "(12, 207, 2)"
      ]
     },
     "execution_count": 12,
     "metadata": {},
     "output_type": "execute_result"
    }
   ],
   "source": [
    "stt[1].shape"
   ]
  },
  {
   "cell_type": "code",
   "execution_count": 51,
   "id": "9beb9bee",
   "metadata": {},
   "outputs": [
    {
     "data": {
      "text/plain": [
       "(208,)"
      ]
     },
     "execution_count": 51,
     "metadata": {},
     "output_type": "execute_result"
    }
   ],
   "source": [
    "stt[2].shape"
   ]
  },
  {
   "cell_type": "code",
   "execution_count": 52,
   "id": "6c06d13b",
   "metadata": {},
   "outputs": [],
   "source": [
    "x = stt[0][:, :208]\n",
    "x1 = stt[0][:, 208:2*208]\n",
    "mask = stt[0][:, 2*208:]"
   ]
  },
  {
   "cell_type": "code",
   "execution_count": 61,
   "id": "41f70061",
   "metadata": {},
   "outputs": [
    {
     "data": {
      "text/plain": [
       "<matplotlib.image.AxesImage at 0x11c0fd910>"
      ]
     },
     "execution_count": 61,
     "metadata": {},
     "output_type": "execute_result"
    },
    {
     "data": {
      "image/png": "[encoded data removed]",
      "text/plain": [
       "<Figure size 432x288 with 1 Axes>"
      ]
     },
     "metadata": {
      "needs_background": "light"
     },
     "output_type": "display_data"
    }
   ],
   "source": [
    "plt.imshow((mask == 0))"
   ]
  },
  {
   "cell_type": "code",
   "execution_count": 62,
   "id": "dda20590",
   "metadata": {},
   "outputs": [
    {
     "data": {
      "text/plain": [
       "array([[1.],\n",
       "       [1.],\n",
       "       [1.],\n",
       "       [0.],\n",
       "       [0.],\n",
       "       [1.],\n",
       "       [1.],\n",
       "       [0.],\n",
       "       [0.],\n",
       "       [0.],\n",
       "       [1.],\n",
       "       [0.]], dtype=float32)"
      ]
     },
     "execution_count": 62,
     "metadata": {},
     "output_type": "execute_result"
    }
   ],
   "source": [
    "mask[:, 22:23]"
   ]
  },
  {
   "cell_type": "code",
   "execution_count": 63,
   "id": "36da8ca8",
   "metadata": {},
   "outputs": [
    {
     "data": {
      "text/plain": [
       "array([[ 0.15877494],\n",
       "       [ 0.00487354],\n",
       "       [ 0.03052378],\n",
       "       [-2.7910018 ],\n",
       "       [-2.7910018 ],\n",
       "       [-0.37987995],\n",
       "       [-0.45683065],\n",
       "       [-2.7910018 ],\n",
       "       [-2.7910018 ],\n",
       "       [-2.7910018 ],\n",
       "       [-0.37987995],\n",
       "       [-2.7910018 ]], dtype=float32)"
      ]
     },
     "execution_count": 63,
     "metadata": {},
     "output_type": "execute_result"
    }
   ],
   "source": [
    "x[:, 22:23]"
   ]
  },
  {
   "cell_type": "code",
   "execution_count": 64,
   "id": "7bbb06a1",
   "metadata": {},
   "outputs": [
    {
     "data": {
      "text/plain": [
       "array([[ 0.15877494],\n",
       "       [ 0.00487354],\n",
       "       [ 0.03052378],\n",
       "       [ 0.03052378],\n",
       "       [ 0.03052378],\n",
       "       [-0.37987995],\n",
       "       [-0.45683065],\n",
       "       [-0.45683065],\n",
       "       [-0.45683065],\n",
       "       [-0.45683065],\n",
       "       [-0.37987995],\n",
       "       [-0.37987995]], dtype=float32)"
      ]
     },
     "execution_count": 64,
     "metadata": {},
     "output_type": "execute_result"
    }
   ],
   "source": [
    "x1[:, 22:23]"
   ]
  },
  {
   "cell_type": "code",
   "execution_count": 29,
   "id": "18b5eb2a",
   "metadata": {},
   "outputs": [
    {
     "data": {
      "text/plain": [
       "array([[1., 1., 1.],\n",
       "       [1., 1., 1.],\n",
       "       [1., 1., 1.],\n",
       "       [1., 1., 1.],\n",
       "       [1., 1., 1.],\n",
       "       [1., 1., 1.],\n",
       "       [1., 1., 1.],\n",
       "       [1., 1., 1.],\n",
       "       [1., 1., 1.],\n",
       "       [1., 1., 1.],\n",
       "       [1., 1., 1.],\n",
       "       [1., 1., 1.]], dtype=float32)"
      ]
     },
     "execution_count": 29,
     "metadata": {},
     "output_type": "execute_result"
    }
   ],
   "source": [
    "stt[0][:, 208*2 + 2 : 208*2 + 5 ]"
   ]
  },
  {
   "cell_type": "code",
   "execution_count": 34,
   "id": "4b87759d",
   "metadata": {},
   "outputs": [
    {
     "data": {
      "text/plain": [
       "[<matplotlib.lines.Line2D at 0x11b2f0070>,\n",
       " <matplotlib.lines.Line2D at 0x11b2f00a0>,\n",
       " <matplotlib.lines.Line2D at 0x11b301ee0>]"
      ]
     },
     "execution_count": 34,
     "metadata": {},
     "output_type": "execute_result"
    },
    {
     "data": {
      "image/png": "[encoded data removed]",
      "text/plain": [
       "<Figure size 432x288 with 1 Axes>"
      ]
     },
     "metadata": {
      "needs_background": "light"
     },
     "output_type": "display_data"
    }
   ],
   "source": [
    "plt.plot(np.arange(12), stt[0][:, 7:10] * 19.493 + 54.405)\n",
    "plt.plot(np.arange(11, 23), stt[1][:,7:10, 0]* 19.493 + 54.405)"
   ]
  },
  {
   "cell_type": "code",
   "execution_count": 45,
   "id": "3fc8e20e",
   "metadata": {},
   "outputs": [],
   "source": [
    "stuff = np.load(\"./data/training_files/melr_train/0.npz\")"
   ]
  },
  {
   "cell_type": "code",
   "execution_count": 46,
   "id": "a8c977f8",
   "metadata": {},
   "outputs": [
    {
     "data": {
      "text/plain": [
       "[<matplotlib.lines.Line2D at 0x11bff9d30>,\n",
       " <matplotlib.lines.Line2D at 0x11bff9f70>,\n",
       " <matplotlib.lines.Line2D at 0x11bff9e20>,\n",
       " <matplotlib.lines.Line2D at 0x11c002100>,\n",
       " <matplotlib.lines.Line2D at 0x11bfa86a0>]"
      ]
     },
     "execution_count": 46,
     "metadata": {},
     "output_type": "execute_result"
    },
    {
     "data": {
      "image/png": "[encoded data removed]",
      "text/plain": [
       "<Figure size 432x288 with 1 Axes>"
      ]
     },
     "metadata": {
      "needs_background": "light"
     },
     "output_type": "display_data"
    }
   ],
   "source": [
    "plt.plot(stuff['x'][:, 15:20, 0])\n",
    "plt.plot(np.arange(11, 23), stuff['y'][:, 15:20, 0])"
   ]
  },
  {
   "cell_type": "code",
   "execution_count": null,
   "id": "8b95fa4f",
   "metadata": {},
   "outputs": [],
   "source": []
  }
 ],
 "metadata": {
  "kernelspec": {
   "display_name": "Python 3",
   "language": "python",
   "name": "python3"
  },
  "language_info": {
   "codemirror_mode": {
    "name": "ipython",
    "version": 3
   },
   "file_extension": ".py",
   "mimetype": "text/x-python",
   "name": "python",
   "nbconvert_exporter": "python",
   "pygments_lexer": "ipython3",
   "version": "3.9.1"
  }
 },
 "nbformat": 4,
 "nbformat_minor": 5
}
